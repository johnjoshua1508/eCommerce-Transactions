{
  "nbformat": 4,
  "nbformat_minor": 0,
  "metadata": {
    "colab": {
      "provenance": []
    },
    "kernelspec": {
      "name": "python3",
      "display_name": "Python 3"
    },
    "language_info": {
      "name": "python"
    }
  },
  "cells": [
    {
      "cell_type": "markdown",
      "source": [
        "# Import necessary libraries"
      ],
      "metadata": {
        "id": "6VbCnGZcQp8R"
      }
    },
    {
      "cell_type": "code",
      "source": [
        "import pandas as pd\n",
        "import numpy as np\n",
        "from sklearn.preprocessing import StandardScaler\n",
        "from sklearn.metrics.pairwise import cosine_similarity\n",
        "import warnings\n",
        "warnings.filterwarnings('ignore')"
      ],
      "metadata": {
        "id": "oTunXqQaMk6r"
      },
      "execution_count": 17,
      "outputs": []
    },
    {
      "cell_type": "markdown",
      "source": [
        "# Load datasets"
      ],
      "metadata": {
        "id": "5HNt3GhxQuRw"
      }
    },
    {
      "cell_type": "code",
      "source": [
        "customers_df = pd.read_csv('Customers.csv')\n",
        "products_df = pd.read_csv('Products.csv')\n",
        "transactions_df = pd.read_csv('Transactions.csv')\n",
        "\n",
        "# Convert date columns to datetime\n",
        "customers_df['SignupDate'] = pd.to_datetime(customers_df['SignupDate'])\n",
        "transactions_df['TransactionDate'] = pd.to_datetime(transactions_df['TransactionDate'])\n",
        "\n",
        "# Create customer features\n",
        "customer_features = customers_df.copy()\n",
        "\n",
        "# Add transaction-based features\n",
        "trans_agg = transactions_df.groupby('CustomerID').agg({\n",
        "    'TransactionID': 'count',\n",
        "    'TotalValue': ['sum', 'mean'],\n",
        "    'Quantity': ['sum', 'mean']\n",
        "})\n",
        "trans_agg.columns = ['transaction_count', 'total_spend', 'avg_transaction_value', 'total_quantity', 'avg_quantity']\n",
        "trans_agg = trans_agg.reset_index()\n",
        "customer_features = customer_features.merge(trans_agg, on='CustomerID', how='left')\n",
        "\n",
        "# Add category preferences\n",
        "category_data = transactions_df.merge(products_df, on='ProductID')\n",
        "category_pivot = pd.pivot_table(category_data, values='TotalValue', index='CustomerID', columns='Category', aggfunc='sum', fill_value=0)\n",
        "customer_features = customer_features.merge(category_pivot, on='CustomerID', how='left')\n",
        "\n",
        "# Fill NaN values\n",
        "customer_features = customer_features.fillna(0)\n",
        "\n",
        "# Prepare features for similarity calculation\n",
        "feature_cols = ['total_spend', 'transaction_count', 'avg_transaction_value', 'total_quantity', 'avg_quantity'] + list(category_pivot.columns)\n",
        "X = customer_features[feature_cols]\n",
        "\n",
        "# Scale features\n",
        "scaler = StandardScaler()\n",
        "X_scaled = scaler.fit_transform(X)\n",
        "\n",
        "# Calculate similarity matrix\n",
        "similarity_matrix = cosine_similarity(X_scaled)\n"
      ],
      "metadata": {
        "id": "RL0NWV-XQKMH"
      },
      "execution_count": 18,
      "outputs": []
    },
    {
      "cell_type": "markdown",
      "source": [
        "# Create recommendation"
      ],
      "metadata": {
        "id": "41VOD9TQQwub"
      }
    },
    {
      "cell_type": "code",
      "source": [
        "lookalike_recommendations = {}\n",
        "for idx, customer_id in enumerate(customer_features['CustomerID']):\n",
        "    # Get similarity scores for current customer\n",
        "    customer_similarities = similarity_matrix[idx]\n",
        "\n",
        "    # Get indices of top 3 similar customers (excluding self)\n",
        "    similar_indices = np.argsort(customer_similarities)[::-1][1:4]\n",
        "\n",
        "    # Store recommendations with similarity scores\n",
        "    recommendations = []\n",
        "    for similar_idx in similar_indices:\n",
        "        similar_customer_id = customer_features.iloc[similar_idx]['CustomerID']\n",
        "        similarity_score = customer_similarities[similar_idx]\n",
        "        recommendations.append((similar_customer_id, round(similarity_score, 3)))\n",
        "\n",
        "    lookalike_recommendations[customer_id] = recommendations"
      ],
      "metadata": {
        "id": "Bnc_lvI2QT2L"
      },
      "execution_count": 19,
      "outputs": []
    },
    {
      "cell_type": "markdown",
      "source": [
        "# Prepare data for CSV output"
      ],
      "metadata": {
        "id": "lkmqTDSqQzdy"
      }
    },
    {
      "cell_type": "code",
      "source": [
        "csv_data = []\n",
        "for cust_id, recommendations in lookalike_recommendations.items():\n",
        "    if cust_id in customers_df['CustomerID'].iloc[:20].values:\n",
        "        row = {\n",
        "            'CustomerID': cust_id,\n",
        "            'Lookalike1': recommendations[0][0],\n",
        "            'Score1': recommendations[0][1],\n",
        "            'Lookalike2': recommendations[1][0],\n",
        "            'Score2': recommendations[1][1],\n",
        "            'Lookalike3': recommendations[2][0],\n",
        "            'Score3': recommendations[2][1]\n",
        "        }\n",
        "        csv_data.append(row)\n",
        "\n",
        "# Create DataFrame and save to CSV\n",
        "recommendations_df = pd.DataFrame(csv_data)\n",
        "recommendations_df.to_csv('John_Joshua_Lookalike.csv', index=False)\n",
        "\n",
        "print(\"Lookalike recommendations for the first 20 customers:\")\n",
        "print(recommendations_df)\n",
        "print(\"\\nLookalike recommendations saved to John_Joshua_Lookalike.csv\")"
      ],
      "metadata": {
        "colab": {
          "base_uri": "https://localhost:8080/"
        },
        "id": "V5xmFkKyQZTO",
        "outputId": "629b57d7-f84f-4786-c27b-108eef800c8c"
      },
      "execution_count": 20,
      "outputs": [
        {
          "output_type": "stream",
          "name": "stdout",
          "text": [
            "Lookalike recommendations for the first 20 customers:\n",
            "   CustomerID Lookalike1  Score1 Lookalike2  Score2 Lookalike3  Score3\n",
            "0       C0001      C0069   0.936      C0072   0.862      C0183   0.823\n",
            "1       C0002      C0036   0.862      C0062   0.849      C0055   0.846\n",
            "2       C0003      C0144   0.786      C0197   0.784      C0166   0.771\n",
            "3       C0004      C0075   0.977      C0065   0.929      C0113   0.868\n",
            "4       C0005      C0085   0.899      C0130   0.868      C0007   0.856\n",
            "5       C0006      C0185   0.914      C0196   0.897      C0079   0.864\n",
            "6       C0007      C0085   0.943      C0005   0.856      C0197   0.824\n",
            "7       C0008      C0024   0.831      C0109   0.818      C0194   0.774\n",
            "8       C0009      C0180   0.979      C0083   0.978      C0097   0.972\n",
            "9       C0010      C0111   0.928      C0029   0.920      C0142   0.892\n",
            "10      C0011      C0153   0.823      C0099   0.759      C0013   0.750\n",
            "11      C0012      C0104   0.890      C0059   0.885      C0163   0.883\n",
            "12      C0013      C0046   0.970      C0099   0.960      C0188   0.901\n",
            "13      C0014      C0033   0.983      C0060   0.979      C0043   0.954\n",
            "14      C0015      C0014   0.952      C0128   0.951      C0123   0.945\n",
            "15      C0016      C0011   0.716      C0126   0.629      C0044   0.604\n",
            "16      C0017      C0065   0.896      C0075   0.890      C0122   0.854\n",
            "17      C0018      C0114   0.880      C0168   0.842      C0087   0.841\n",
            "18      C0019      C0119   0.842      C0047   0.823      C0161   0.816\n",
            "19      C0020      C0140   0.910      C0080   0.892      C0112   0.862\n",
            "\n",
            "Lookalike recommendations saved to John_Joshua_Lookalike.csv\n"
          ]
        }
      ]
    }
  ]
}